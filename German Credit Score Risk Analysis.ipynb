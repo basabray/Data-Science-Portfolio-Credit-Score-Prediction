{
 "cells": [
  {
   "cell_type": "markdown",
   "metadata": {},
   "source": [
    "## Credit Risk Analysis Prediction:\n",
    "- '0' status presenting no risk and loan will be repaid on time\n",
    "- On the other hand, '1' indicating that the loan presents a risk and the client will have some payment difficulties."
   ]
  },
  {
   "cell_type": "markdown",
   "metadata": {},
   "source": [
    "**Import necessary Libraries:**"
   ]
  },
  {
   "cell_type": "code",
   "execution_count": 45,
   "metadata": {},
   "outputs": [],
   "source": [
    "import pandas as pd\n",
    "import numpy as np\n",
    "import matplotlib.pyplot as plt\n",
    "import seaborn as sns\n",
    "from scipy.stats import chi2_contingency\n",
    "\n",
    "from sklearn.preprocessing import RobustScaler\n",
    "from sklearn.model_selection import train_test_split\n",
    "from sklearn.model_selection import GridSearchCV\n",
    "\n",
    "from sklearn.linear_model import LogisticRegression\n",
    "from sklearn.tree import DecisionTreeClassifier\n",
    "from sklearn.ensemble import BaggingClassifier\n",
    "from sklearn.ensemble import RandomForestClassifier\n",
    "import xgboost as xgb\n",
    "from xgboost import XGBClassifier\n",
    "\n",
    "from sklearn.metrics import accuracy_score, classification_report, confusion_matrix, roc_curve, roc_auc_score"
   ]
  },
  {
   "cell_type": "code",
   "execution_count": 2,
   "metadata": {},
   "outputs": [
    {
     "data": {
      "text/html": [
       "<div>\n",
       "<style scoped>\n",
       "    .dataframe tbody tr th:only-of-type {\n",
       "        vertical-align: middle;\n",
       "    }\n",
       "\n",
       "    .dataframe tbody tr th {\n",
       "        vertical-align: top;\n",
       "    }\n",
       "\n",
       "    .dataframe thead th {\n",
       "        text-align: right;\n",
       "    }\n",
       "</style>\n",
       "<table border=\"1\" class=\"dataframe\">\n",
       "  <thead>\n",
       "    <tr style=\"text-align: right;\">\n",
       "      <th></th>\n",
       "      <th>checkin_acc</th>\n",
       "      <th>duration</th>\n",
       "      <th>credit_history</th>\n",
       "      <th>amount</th>\n",
       "      <th>savings_acc</th>\n",
       "      <th>present_emp_since</th>\n",
       "      <th>inst_rate</th>\n",
       "      <th>personal_status</th>\n",
       "      <th>residing_since</th>\n",
       "      <th>age</th>\n",
       "      <th>inst_plans</th>\n",
       "      <th>num_credits</th>\n",
       "      <th>job</th>\n",
       "      <th>status</th>\n",
       "    </tr>\n",
       "  </thead>\n",
       "  <tbody>\n",
       "    <tr>\n",
       "      <th>0</th>\n",
       "      <td>A11</td>\n",
       "      <td>6</td>\n",
       "      <td>A34</td>\n",
       "      <td>1169</td>\n",
       "      <td>A65</td>\n",
       "      <td>A75</td>\n",
       "      <td>4</td>\n",
       "      <td>A93</td>\n",
       "      <td>4</td>\n",
       "      <td>67</td>\n",
       "      <td>A143</td>\n",
       "      <td>2</td>\n",
       "      <td>A173</td>\n",
       "      <td>0</td>\n",
       "    </tr>\n",
       "    <tr>\n",
       "      <th>1</th>\n",
       "      <td>A12</td>\n",
       "      <td>48</td>\n",
       "      <td>A32</td>\n",
       "      <td>5951</td>\n",
       "      <td>A61</td>\n",
       "      <td>A73</td>\n",
       "      <td>2</td>\n",
       "      <td>A92</td>\n",
       "      <td>2</td>\n",
       "      <td>22</td>\n",
       "      <td>A143</td>\n",
       "      <td>1</td>\n",
       "      <td>A173</td>\n",
       "      <td>1</td>\n",
       "    </tr>\n",
       "    <tr>\n",
       "      <th>2</th>\n",
       "      <td>A14</td>\n",
       "      <td>12</td>\n",
       "      <td>A34</td>\n",
       "      <td>2096</td>\n",
       "      <td>A61</td>\n",
       "      <td>A74</td>\n",
       "      <td>2</td>\n",
       "      <td>A93</td>\n",
       "      <td>3</td>\n",
       "      <td>49</td>\n",
       "      <td>A143</td>\n",
       "      <td>1</td>\n",
       "      <td>A172</td>\n",
       "      <td>0</td>\n",
       "    </tr>\n",
       "    <tr>\n",
       "      <th>3</th>\n",
       "      <td>A11</td>\n",
       "      <td>42</td>\n",
       "      <td>A32</td>\n",
       "      <td>7882</td>\n",
       "      <td>A61</td>\n",
       "      <td>A74</td>\n",
       "      <td>2</td>\n",
       "      <td>A93</td>\n",
       "      <td>4</td>\n",
       "      <td>45</td>\n",
       "      <td>A143</td>\n",
       "      <td>1</td>\n",
       "      <td>A173</td>\n",
       "      <td>0</td>\n",
       "    </tr>\n",
       "    <tr>\n",
       "      <th>4</th>\n",
       "      <td>A11</td>\n",
       "      <td>24</td>\n",
       "      <td>A33</td>\n",
       "      <td>4870</td>\n",
       "      <td>A61</td>\n",
       "      <td>A73</td>\n",
       "      <td>3</td>\n",
       "      <td>A93</td>\n",
       "      <td>4</td>\n",
       "      <td>53</td>\n",
       "      <td>A143</td>\n",
       "      <td>2</td>\n",
       "      <td>A173</td>\n",
       "      <td>1</td>\n",
       "    </tr>\n",
       "  </tbody>\n",
       "</table>\n",
       "</div>"
      ],
      "text/plain": [
       "  checkin_acc  duration credit_history  amount savings_acc present_emp_since  \\\n",
       "0         A11         6            A34    1169         A65               A75   \n",
       "1         A12        48            A32    5951         A61               A73   \n",
       "2         A14        12            A34    2096         A61               A74   \n",
       "3         A11        42            A32    7882         A61               A74   \n",
       "4         A11        24            A33    4870         A61               A73   \n",
       "\n",
       "   inst_rate personal_status  residing_since  age inst_plans  num_credits  \\\n",
       "0          4             A93               4   67       A143            2   \n",
       "1          2             A92               2   22       A143            1   \n",
       "2          2             A93               3   49       A143            1   \n",
       "3          2             A93               4   45       A143            1   \n",
       "4          3             A93               4   53       A143            2   \n",
       "\n",
       "    job  status  \n",
       "0  A173       0  \n",
       "1  A173       1  \n",
       "2  A172       0  \n",
       "3  A173       0  \n",
       "4  A173       1  "
      ]
     },
     "execution_count": 2,
     "metadata": {},
     "output_type": "execute_result"
    }
   ],
   "source": [
    "data = pd.read_csv(r'C:\\Users\\91842\\Downloads\\German Credit Data.csv')\n",
    "data.head()"
   ]
  },
  {
   "cell_type": "code",
   "execution_count": 3,
   "metadata": {},
   "outputs": [
    {
     "data": {
      "text/plain": [
       "0    700\n",
       "1    300\n",
       "Name: status, dtype: int64"
      ]
     },
     "execution_count": 3,
     "metadata": {},
     "output_type": "execute_result"
    }
   ],
   "source": [
    "data['status'].value_counts()"
   ]
  },
  {
   "cell_type": "code",
   "execution_count": 4,
   "metadata": {},
   "outputs": [
    {
     "data": {
      "text/plain": [
       "(1000, 14)"
      ]
     },
     "execution_count": 4,
     "metadata": {},
     "output_type": "execute_result"
    }
   ],
   "source": [
    "data.shape"
   ]
  },
  {
   "cell_type": "code",
   "execution_count": 5,
   "metadata": {},
   "outputs": [
    {
     "name": "stdout",
     "output_type": "stream",
     "text": [
      "<class 'pandas.core.frame.DataFrame'>\n",
      "RangeIndex: 1000 entries, 0 to 999\n",
      "Data columns (total 14 columns):\n",
      " #   Column             Non-Null Count  Dtype \n",
      "---  ------             --------------  ----- \n",
      " 0   checkin_acc        1000 non-null   object\n",
      " 1   duration           1000 non-null   int64 \n",
      " 2   credit_history     1000 non-null   object\n",
      " 3   amount             1000 non-null   int64 \n",
      " 4   savings_acc        1000 non-null   object\n",
      " 5   present_emp_since  1000 non-null   object\n",
      " 6   inst_rate          1000 non-null   int64 \n",
      " 7   personal_status    1000 non-null   object\n",
      " 8   residing_since     1000 non-null   int64 \n",
      " 9   age                1000 non-null   int64 \n",
      " 10  inst_plans         1000 non-null   object\n",
      " 11  num_credits        1000 non-null   int64 \n",
      " 12  job                1000 non-null   object\n",
      " 13  status             1000 non-null   int64 \n",
      "dtypes: int64(7), object(7)\n",
      "memory usage: 109.5+ KB\n"
     ]
    }
   ],
   "source": [
    "data.info()"
   ]
  },
  {
   "cell_type": "markdown",
   "metadata": {},
   "source": [
    "- Out of total 14 features 7 are categorical and rest are numerical."
   ]
  },
  {
   "cell_type": "code",
   "execution_count": 31,
   "metadata": {},
   "outputs": [
    {
     "data": {
      "text/plain": [
       "A173    630\n",
       "A172    200\n",
       "A174    148\n",
       "A171     22\n",
       "Name: job, dtype: int64"
      ]
     },
     "execution_count": 31,
     "metadata": {},
     "output_type": "execute_result"
    }
   ],
   "source": [
    "data['job'].value_counts()"
   ]
  },
  {
   "cell_type": "markdown",
   "metadata": {},
   "source": [
    "**EDA: Now that we have the data, let's understand the data before attempting to model it:**"
   ]
  },
  {
   "cell_type": "markdown",
   "metadata": {},
   "source": [
    "Few of the questions to ask based on the available data:\n",
    "- Check the correlation among the input variables?\n",
    "- Is there any relation present between the input variables and the output variable, status?\n",
    "- If there is such relation existing then how strong is the relation?\n",
    "- Identify the probable useful features? \n",
    "- What purpose of the loans are more risk to business? Is there any pattern hidden in the data that can give evidence of this?\n",
    "- Can risk be associated with the credit amount? If yes, then how is the association type?"
   ]
  },
  {
   "cell_type": "code",
   "execution_count": null,
   "metadata": {},
   "outputs": [],
   "source": []
  },
  {
   "cell_type": "code",
   "execution_count": 33,
   "metadata": {},
   "outputs": [
    {
     "data": {
      "image/png": "[encoded data removed]",
      "text/plain": [
       "<Figure size 432x288 with 2 Axes>"
      ]
     },
     "metadata": {
      "needs_background": "light"
     },
     "output_type": "display_data"
    }
   ],
   "source": [
    "# let's check the correlation matrix of the numerical features:\n",
    "sns.heatmap(data.corr());"
   ]
  },
  {
   "cell_type": "markdown",
   "metadata": {},
   "source": [
    "Observation:\n",
    "- From the heatmap it seems that credit amonut has a strong negative correlation with interest rate\n",
    "- And amount has a moderate positive correlation with duration. If the credit amount is high then the duration to pay it will also be high."
   ]
  },
  {
   "cell_type": "markdown",
   "metadata": {},
   "source": [
    "**1. Let's do chi2 test to establish the claim - credit_history & status may be related**"
   ]
  },
  {
   "cell_type": "code",
   "execution_count": 7,
   "metadata": {},
   "outputs": [
    {
     "name": "stdout",
     "output_type": "stream",
     "text": [
      "Reject the Null hypothesis\n",
      "There is a relation between credit_history & status\n"
     ]
    }
   ],
   "source": [
    "# Contingency Table \n",
    "tab = pd.crosstab(data['credit_history'], data['status'])\n",
    "chi2, p, dof, exp = chi2_contingency(tab)\n",
    "\n",
    "#check the p-value of the test:\n",
    "if p<0.05:\n",
    "    print('Reject the Null hypothesis')\n",
    "    print('There is a relation between credit_history & status')\n",
    "else:\n",
    "    print('Do not reject the Null hypothesis')\n",
    "    print('There is no relation between credit_history & status')"
   ]
  },
  {
   "cell_type": "code",
   "execution_count": 8,
   "metadata": {},
   "outputs": [
    {
     "name": "stderr",
     "output_type": "stream",
     "text": [
      "C:\\Users\\91842\\anaconda3\\lib\\site-packages\\seaborn\\_decorators.py:43: FutureWarning: Pass the following variable as a keyword arg: x. From version 0.12, the only valid positional argument will be `data`, and passing other arguments without an explicit keyword will result in an error or misinterpretation.\n",
      "  FutureWarning\n"
     ]
    },
    {
     "data": {
      "image/png": "[encoded data removed]",
      "text/plain": [
       "<Figure size 432x288 with 1 Axes>"
      ]
     },
     "metadata": {
      "needs_background": "light"
     },
     "output_type": "display_data"
    }
   ],
   "source": [
    "sns.countplot(data['credit_history'], hue=data['status']);"
   ]
  },
  {
   "cell_type": "markdown",
   "metadata": {},
   "source": [
    "Observation:\n",
    "- It is quite evident from the graph that customers who has taken the loan for the 1st time (A30) from this bank are more likley to be 'Bad Credit'.\n",
    "- Whereas, for customers whose existing credits are paid back duly till now (A32) are less likely to be 'Bad credit'.\n",
    "- Similarly, customers with credits existing from other bank (A34) are less likely to be 'Bad credit'."
   ]
  },
  {
   "cell_type": "markdown",
   "metadata": {},
   "source": [
    "**2. Let's check if Loan Duration & status is related or not:**\n",
    "- First descretize the duration column into categories:"
   ]
  },
  {
   "cell_type": "code",
   "execution_count": 9,
   "metadata": {},
   "outputs": [
    {
     "data": {
      "text/plain": [
       "0    Less than 1 year\n",
       "1    More than 1 year\n",
       "2              1 year\n",
       "Name: duration_new, dtype: object"
      ]
     },
     "execution_count": 9,
     "metadata": {},
     "output_type": "execute_result"
    }
   ],
   "source": [
    "# create a list of our conditions\n",
    "conditions = [\n",
    "    (data['duration'] == 12),\n",
    "    (data['duration'] >12),\n",
    "    (data['duration'] <12)]\n",
    "\n",
    "# create a list of the values we want to assign for each condition\n",
    "values = ['1 year', 'More than 1 year', 'Less than 1 year']\n",
    "\n",
    "# create a new column and use np.select to assign values to it using our lists as arguments\n",
    "data['duration_new'] = np.select(conditions, values, 'Other duration')\n",
    "\n",
    "# display updated DataFrame\n",
    "data['duration_new'][:3]"
   ]
  },
  {
   "cell_type": "code",
   "execution_count": 10,
   "metadata": {},
   "outputs": [
    {
     "name": "stderr",
     "output_type": "stream",
     "text": [
      "C:\\Users\\91842\\anaconda3\\lib\\site-packages\\seaborn\\_decorators.py:43: FutureWarning: Pass the following variable as a keyword arg: x. From version 0.12, the only valid positional argument will be `data`, and passing other arguments without an explicit keyword will result in an error or misinterpretation.\n",
      "  FutureWarning\n"
     ]
    },
    {
     "data": {
      "image/png": "[encoded data removed]",
      "text/plain": [
       "<Figure size 432x288 with 1 Axes>"
      ]
     },
     "metadata": {
      "needs_background": "light"
     },
     "output_type": "display_data"
    }
   ],
   "source": [
    "sns.countplot(data['duration_new'], hue=data['status']);"
   ]
  },
  {
   "cell_type": "markdown",
   "metadata": {},
   "source": [
    "Observation:\n",
    "- The customers have Bad credit history where the loan duration is more tha 1 year. \n",
    "- Less than 1 year loans are being paid on time in comparison to the loans which are taken for longer duration.\n",
    "- And most of the loans are taken for more than 1 year period from this bank."
   ]
  },
  {
   "cell_type": "markdown",
   "metadata": {},
   "source": [
    "**3. Can loan amount be a risk factor for loan re-paymnet:**"
   ]
  },
  {
   "cell_type": "code",
   "execution_count": 11,
   "metadata": {},
   "outputs": [
    {
     "data": {
      "text/plain": [
       "<AxesSubplot:xlabel='status', ylabel='amount'>"
      ]
     },
     "execution_count": 11,
     "metadata": {},
     "output_type": "execute_result"
    },
    {
     "data": {
      "image/png": "[encoded data removed]",
      "text/plain": [
       "<Figure size 432x288 with 1 Axes>"
      ]
     },
     "metadata": {
      "needs_background": "light"
     },
     "output_type": "display_data"
    }
   ],
   "source": [
    "sns.boxplot(x=\"status\", y=\"amount\", data=data)"
   ]
  },
  {
   "cell_type": "markdown",
   "metadata": {},
   "source": [
    "Observation:\n",
    "- It seems that the 75% of the Bad credit loan amount is below 5500.\n",
    "- Whereas, for Good credit the 75% of the loan amount is less than 3750.\n",
    "- And for this bank the highest taken loan amount (>17500) has turned out to be a Bad credit.\n",
    "- So, higher the loan amount higher may be the risk."
   ]
  },
  {
   "cell_type": "markdown",
   "metadata": {},
   "source": [
    "**4. Let's check what is the credit status looks for such very high loan amount:**"
   ]
  },
  {
   "cell_type": "markdown",
   "metadata": {},
   "source": [
    "- At first performed Outlier detection for loan amount:"
   ]
  },
  {
   "cell_type": "code",
   "execution_count": 12,
   "metadata": {},
   "outputs": [
    {
     "data": {
      "text/plain": [
       "1    70.833333\n",
       "0    29.166667\n",
       "Name: status, dtype: float64"
      ]
     },
     "execution_count": 12,
     "metadata": {},
     "output_type": "execute_result"
    }
   ],
   "source": [
    "Q1 = np.quantile(data['amount'],0.25)\n",
    "Q3 = np.quantile(data['amount'],0.75)\n",
    "Extreme_Q1 = Q1-3*(Q3-Q1) \n",
    "Extreme_Q3 = Q3+3*(Q3-Q1)\n",
    "outlier_loan_amount = data[data['amount']>Extreme_Q3]\n",
    "(outlier_loan_amount['status'].value_counts()/outlier_loan_amount.shape[0])*100"
   ]
  },
  {
   "cell_type": "markdown",
   "metadata": {},
   "source": [
    "Observation:\n",
    "- From the baove data it is evident that out of these extreme high loan maount approximately 71% have turned out as 'Bad Credit' and only 29% are 'Good Credit'\n",
    "- With no surprise we can say that high loan amount is a high risk."
   ]
  },
  {
   "cell_type": "markdown",
   "metadata": {},
   "source": [
    "**5. Let's check if Present employment plays any role in the loan status:**"
   ]
  },
  {
   "cell_type": "code",
   "execution_count": 13,
   "metadata": {},
   "outputs": [
    {
     "data": {
      "text/plain": [
       "<AxesSubplot:xlabel='present_emp_since'>"
      ]
     },
     "execution_count": 13,
     "metadata": {},
     "output_type": "execute_result"
    },
    {
     "data": {
      "image/png": "[encoded data removed]",
      "text/plain": [
       "<Figure size 432x288 with 1 Axes>"
      ]
     },
     "metadata": {
      "needs_background": "light"
     },
     "output_type": "display_data"
    }
   ],
   "source": [
    "var = data.groupby(['present_emp_since','status']).status.count()\n",
    "var.unstack().plot(kind='bar',stacked=True,  color=['green','orange'], grid=False)"
   ]
  },
  {
   "cell_type": "markdown",
   "metadata": {},
   "source": [
    "Observation:\n",
    "- 'A73' are the customers with current experice between 1 to 4 years and 'A72' are the customers with current experice <1 year. They are the most likely to turn out as 'Bad Credit' in comparison to others. \n",
    "- The bank has also approved loans to such customers who are currently unemployed ('A71') but they are very less in numbers.\n",
    "- Also it is clear from the graph that customers irrespective of their present employment status have turned as 'Bad Credit'. There is no particula pattern present here."
   ]
  },
  {
   "cell_type": "markdown",
   "metadata": {},
   "source": [
    "**6. Let's check the loan amount for all the categries under present employment status**: "
   ]
  },
  {
   "cell_type": "code",
   "execution_count": 14,
   "metadata": {},
   "outputs": [
    {
     "data": {
      "text/html": [
       "<div>\n",
       "<style scoped>\n",
       "    .dataframe tbody tr th:only-of-type {\n",
       "        vertical-align: middle;\n",
       "    }\n",
       "\n",
       "    .dataframe tbody tr th {\n",
       "        vertical-align: top;\n",
       "    }\n",
       "\n",
       "    .dataframe thead th {\n",
       "        text-align: right;\n",
       "    }\n",
       "</style>\n",
       "<table border=\"1\" class=\"dataframe\">\n",
       "  <thead>\n",
       "    <tr style=\"text-align: right;\">\n",
       "      <th></th>\n",
       "      <th></th>\n",
       "      <th>status</th>\n",
       "      <th>amount</th>\n",
       "    </tr>\n",
       "    <tr>\n",
       "      <th>present_emp_since</th>\n",
       "      <th>status</th>\n",
       "      <th></th>\n",
       "      <th></th>\n",
       "    </tr>\n",
       "  </thead>\n",
       "  <tbody>\n",
       "    <tr>\n",
       "      <th rowspan=\"2\" valign=\"top\">A71</th>\n",
       "      <th>0</th>\n",
       "      <td>39</td>\n",
       "      <td>4192.820513</td>\n",
       "    </tr>\n",
       "    <tr>\n",
       "      <th>1</th>\n",
       "      <td>23</td>\n",
       "      <td>4257.347826</td>\n",
       "    </tr>\n",
       "    <tr>\n",
       "      <th rowspan=\"2\" valign=\"top\">A72</th>\n",
       "      <th>0</th>\n",
       "      <td>102</td>\n",
       "      <td>2683.539216</td>\n",
       "    </tr>\n",
       "    <tr>\n",
       "      <th>1</th>\n",
       "      <td>70</td>\n",
       "      <td>3344.300000</td>\n",
       "    </tr>\n",
       "    <tr>\n",
       "      <th rowspan=\"2\" valign=\"top\">A73</th>\n",
       "      <th>0</th>\n",
       "      <td>235</td>\n",
       "      <td>2770.000000</td>\n",
       "    </tr>\n",
       "    <tr>\n",
       "      <th>1</th>\n",
       "      <td>104</td>\n",
       "      <td>3928.096154</td>\n",
       "    </tr>\n",
       "    <tr>\n",
       "      <th rowspan=\"2\" valign=\"top\">A74</th>\n",
       "      <th>0</th>\n",
       "      <td>135</td>\n",
       "      <td>3478.755556</td>\n",
       "    </tr>\n",
       "    <tr>\n",
       "      <th>1</th>\n",
       "      <td>39</td>\n",
       "      <td>4027.256410</td>\n",
       "    </tr>\n",
       "    <tr>\n",
       "      <th rowspan=\"2\" valign=\"top\">A75</th>\n",
       "      <th>0</th>\n",
       "      <td>189</td>\n",
       "      <td>2814.798942</td>\n",
       "    </tr>\n",
       "    <tr>\n",
       "      <th>1</th>\n",
       "      <td>64</td>\n",
       "      <td>4434.890625</td>\n",
       "    </tr>\n",
       "  </tbody>\n",
       "</table>\n",
       "</div>"
      ],
      "text/plain": [
       "                          status       amount\n",
       "present_emp_since status                     \n",
       "A71               0           39  4192.820513\n",
       "                  1           23  4257.347826\n",
       "A72               0          102  2683.539216\n",
       "                  1           70  3344.300000\n",
       "A73               0          235  2770.000000\n",
       "                  1          104  3928.096154\n",
       "A74               0          135  3478.755556\n",
       "                  1           39  4027.256410\n",
       "A75               0          189  2814.798942\n",
       "                  1           64  4434.890625"
      ]
     },
     "execution_count": 14,
     "metadata": {},
     "output_type": "execute_result"
    }
   ],
   "source": [
    "data.groupby(['present_emp_since','status']).agg({'status':'count','amount':'mean'})"
   ]
  },
  {
   "cell_type": "markdown",
   "metadata": {},
   "source": [
    "Observatio:\n",
    "- It is evident that with with increase in the number of empleoyment years there is increse in the average loan amount.\n",
    "- In each employment category, the average loan amount is high for 'Bad Credit' than the 'Good Credit' average loan amount."
   ]
  },
  {
   "cell_type": "markdown",
   "metadata": {},
   "source": [
    "**7. Installment rate vs status:**"
   ]
  },
  {
   "cell_type": "code",
   "execution_count": 15,
   "metadata": {},
   "outputs": [
    {
     "data": {
      "text/plain": [
       "<AxesSubplot:xlabel='inst_rate'>"
      ]
     },
     "execution_count": 15,
     "metadata": {},
     "output_type": "execute_result"
    },
    {
     "data": {
      "image/png": "[encoded data removed]",
      "text/plain": [
       "<Figure size 432x288 with 1 Axes>"
      ]
     },
     "metadata": {
      "needs_background": "light"
     },
     "output_type": "display_data"
    }
   ],
   "source": [
    "var = data.groupby(['inst_rate','status']).status.count()\n",
    "var.unstack().plot(kind='bar',stacked=True,  color=['green','orange'], grid=False)"
   ]
  },
  {
   "cell_type": "markdown",
   "metadata": {},
   "source": [
    "Observation:\n",
    "- The customers who are paying 4% installment rate are more likle to be turn out as 'Bad Credit'.\n",
    "- Lowest rate (1%) has the lowest chance of being 'Bad Credit'."
   ]
  },
  {
   "cell_type": "markdown",
   "metadata": {},
   "source": [
    "**8. Let's look at the personal deatils of the customers and if there is any hidden pattern present in it:**"
   ]
  },
  {
   "cell_type": "code",
   "execution_count": 16,
   "metadata": {},
   "outputs": [
    {
     "data": {
      "text/plain": [
       "A93    54.8\n",
       "A92    31.0\n",
       "A94     9.2\n",
       "A91     5.0\n",
       "Name: personal_status, dtype: float64"
      ]
     },
     "execution_count": 16,
     "metadata": {},
     "output_type": "execute_result"
    }
   ],
   "source": [
    "(data['personal_status'].value_counts()/data.shape[0])*100"
   ]
  },
  {
   "cell_type": "code",
   "execution_count": 17,
   "metadata": {},
   "outputs": [
    {
     "name": "stderr",
     "output_type": "stream",
     "text": [
      "C:\\Users\\91842\\anaconda3\\lib\\site-packages\\seaborn\\_decorators.py:43: FutureWarning: Pass the following variable as a keyword arg: x. From version 0.12, the only valid positional argument will be `data`, and passing other arguments without an explicit keyword will result in an error or misinterpretation.\n",
      "  FutureWarning\n"
     ]
    },
    {
     "data": {
      "image/png": "[encoded data removed]",
      "text/plain": [
       "<Figure size 432x288 with 1 Axes>"
      ]
     },
     "metadata": {
      "needs_background": "light"
     },
     "output_type": "display_data"
    }
   ],
   "source": [
    "sns.countplot(data['personal_status'], hue=data['status']);"
   ]
  },
  {
   "cell_type": "markdown",
   "metadata": {},
   "source": [
    "Observations:\n",
    "- 50% of the loan borrowers are male who are single , i.e 'A93'. And it seems they are most likely to become 'Bad credit'\n",
    "- And 30% of the loan borrowers are male who are divorced/separated/married , i.e 'A92'. "
   ]
  },
  {
   "cell_type": "markdown",
   "metadata": {},
   "source": [
    "**9. age vs status:**"
   ]
  },
  {
   "cell_type": "code",
   "execution_count": 18,
   "metadata": {},
   "outputs": [
    {
     "data": {
      "text/plain": [
       "<AxesSubplot:xlabel='status', ylabel='age'>"
      ]
     },
     "execution_count": 18,
     "metadata": {},
     "output_type": "execute_result"
    },
    {
     "data": {
      "image/png": "[encoded data removed]",
      "text/plain": [
       "<Figure size 432x288 with 1 Axes>"
      ]
     },
     "metadata": {
      "needs_background": "light"
     },
     "output_type": "display_data"
    }
   ],
   "source": [
    "sns.boxplot(x=\"status\", y=\"age\", data=data)"
   ]
  },
  {
   "cell_type": "markdown",
   "metadata": {},
   "source": [
    "Observation:\n",
    "- 'age' variable shows that the median value for 'Bad credit' is lesser than the 'Good credit'. Which indicates 50% of the 'Bad credit' customers are young than the 50% of the 'Good credit' customers.\n",
    "- So, 'age' may be considered a risk factor."
   ]
  },
  {
   "cell_type": "markdown",
   "metadata": {},
   "source": [
    "**Conclusion based on EDA:**\n",
    "Performed descriptive stats on some of the numeric variables like duration of loan, age of the customers and credit amount. Also, performaed cross-tabulation and chi2 test of independence for some of the categorical varaibles like credit history of the customers.\n",
    "- Now tha analysis reveals that loan duration has a relation with loan re-payment status. Higher the duration indicates more risk correlating to 'Bad credit'.\n",
    "- Not surprisingly, lower the age of the lonee higher the risk. \n",
    "- Analysis reveals that single males tend to borrow more, and as before, younger they are higher the risk.\n",
    "- Loan amount is evidently related to the risk. As expected, higher loan amount corresponds to a 'Bad credit'.\n",
    "- Surprisingly, irrespective of the current employment status customers may be turned as a 'Bad credit'. "
   ]
  },
  {
   "cell_type": "markdown",
   "metadata": {},
   "source": [
    "**Data preprocessing:** "
   ]
  },
  {
   "cell_type": "code",
   "execution_count": 74,
   "metadata": {},
   "outputs": [
    {
     "data": {
      "text/plain": [
       "['checkin_acc',\n",
       " 'duration',\n",
       " 'credit_history',\n",
       " 'amount',\n",
       " 'savings_acc',\n",
       " 'present_emp_since',\n",
       " 'inst_rate',\n",
       " 'personal_status',\n",
       " 'residing_since',\n",
       " 'age',\n",
       " 'inst_plans',\n",
       " 'num_credits',\n",
       " 'job',\n",
       " 'duration_new']"
      ]
     },
     "execution_count": 74,
     "metadata": {},
     "output_type": "execute_result"
    }
   ],
   "source": [
    "x_features = list(data.columns)\n",
    "x_features.remove('status')\n",
    "x_features"
   ]
  },
  {
   "cell_type": "markdown",
   "metadata": {},
   "source": [
    "- Convert the categorical variables into numerical variables:"
   ]
  },
  {
   "cell_type": "code",
   "execution_count": 75,
   "metadata": {},
   "outputs": [
    {
     "data": {
      "text/plain": [
       "(1000, 31)"
      ]
     },
     "execution_count": 75,
     "metadata": {},
     "output_type": "execute_result"
    }
   ],
   "source": [
    "encoded_data = pd.get_dummies(data[x_features], drop_first=True)\n",
    "encoded_data.shape"
   ]
  },
  {
   "cell_type": "code",
   "execution_count": 76,
   "metadata": {},
   "outputs": [],
   "source": [
    "y = data['status']\n",
    "X = encoded_data"
   ]
  },
  {
   "cell_type": "markdown",
   "metadata": {},
   "source": [
    "- Scale the data:"
   ]
  },
  {
   "cell_type": "code",
   "execution_count": 77,
   "metadata": {},
   "outputs": [],
   "source": [
    "scalar = RobustScaler()\n",
    "X_scaled = scalar.fit_transform(X)"
   ]
  },
  {
   "cell_type": "code",
   "execution_count": 78,
   "metadata": {},
   "outputs": [],
   "source": [
    "#splitting the data into trainig set and testing set\n",
    "from sklearn.model_selection import train_test_split\n",
    "train_x,test_x,train_y,test_y = train_test_split(X_scaled,y,train_size=0.8,stratify=y)"
   ]
  },
  {
   "cell_type": "markdown",
   "metadata": {},
   "source": [
    "**Model building: Now that data pre-processing is done, let's proceed with model building**"
   ]
  },
  {
   "cell_type": "markdown",
   "metadata": {},
   "source": [
    "Process Followed:\n",
    "- The risk prediction is a standard supervised classification real-time problem. So, applied supervised learning approach for the modelling.\n",
    "- The labels are included in the training data and the goal is to train a model to learn to predict the labels from the features given to it.\n",
    "- Here the label is a binary variable, 0 ('Good credit' indicating no risk and loan will be paid on time), 1 ('Bad credit' indicating risk and hence difficulty repaying loan).\n",
    "- Used Logistic Regression and Tree based modelling.\n",
    "- At first created the baseline models. \n",
    "- Out of all the baseline models whichever meets the objective of this project will be tuned further in order to seek the best hyperparameters and to improve the model's predictive power."
   ]
  },
  {
   "cell_type": "markdown",
   "metadata": {},
   "source": [
    "- Selected tree based models for this particular dataset and the problem statment. As tree based models are not affected by outliers. We have detected outliers in the data. \n",
    "- Also, there is a suspect of multi-collinearity among the independent variables like between - age and Present employment status, loam amount and interest rate, amount and duration. Hence, Tree based algorithm can be a good choice in this case."
   ]
  },
  {
   "cell_type": "markdown",
   "metadata": {},
   "source": [
    "Logistic Regression:"
   ]
  },
  {
   "cell_type": "code",
   "execution_count": 79,
   "metadata": {},
   "outputs": [
    {
     "name": "stdout",
     "output_type": "stream",
     "text": [
      "The confusin matrix:\n",
      " [[129  11]\n",
      " [ 33  27]]\n",
      "The overall report:\n",
      "               precision    recall  f1-score   support\n",
      "\n",
      "           0       0.80      0.92      0.85       140\n",
      "           1       0.71      0.45      0.55        60\n",
      "\n",
      "    accuracy                           0.78       200\n",
      "   macro avg       0.75      0.69      0.70       200\n",
      "weighted avg       0.77      0.78      0.76       200\n",
      "\n"
     ]
    }
   ],
   "source": [
    "#create an instance\n",
    "LR_clf = LogisticRegression()\n",
    "\n",
    "#fit the train data to the model\n",
    "LR_clf.fit(train_x, train_y)\n",
    "\n",
    "#predict using test set\n",
    "y_pred_LR = LR_clf.predict(test_x)\n",
    "\n",
    "#check the accuracy of the model\n",
    "cm = confusion_matrix(test_y, y_pred_LR)\n",
    "print('The confusin matrix:\\n', cm)\n",
    "print('The overall report:\\n', classification_report(test_y, y_pred_LR))"
   ]
  },
  {
   "cell_type": "code",
   "execution_count": 25,
   "metadata": {},
   "outputs": [
    {
     "data": {
      "text/plain": [
       "array([[0.55978446, 0.44021554],\n",
       "       [0.35325784, 0.64674216],\n",
       "       [0.59471735, 0.40528265],\n",
       "       [0.45340582, 0.54659418],\n",
       "       [0.54447654, 0.45552346]])"
      ]
     },
     "execution_count": 25,
     "metadata": {},
     "output_type": "execute_result"
    }
   ],
   "source": [
    "#predict using the test set:\n",
    "LR_clf.predict_proba(test_x)[:5]"
   ]
  },
  {
   "cell_type": "code",
   "execution_count": 26,
   "metadata": {},
   "outputs": [
    {
     "data": {
      "text/html": [
       "<div>\n",
       "<style scoped>\n",
       "    .dataframe tbody tr th:only-of-type {\n",
       "        vertical-align: middle;\n",
       "    }\n",
       "\n",
       "    .dataframe tbody tr th {\n",
       "        vertical-align: top;\n",
       "    }\n",
       "\n",
       "    .dataframe thead th {\n",
       "        text-align: right;\n",
       "    }\n",
       "</style>\n",
       "<table border=\"1\" class=\"dataframe\">\n",
       "  <thead>\n",
       "    <tr style=\"text-align: right;\">\n",
       "      <th></th>\n",
       "      <th>Actual Data</th>\n",
       "      <th>Predctied_Probability_Good Credit</th>\n",
       "      <th>Predctied_Probability_Bad Credit</th>\n",
       "    </tr>\n",
       "  </thead>\n",
       "  <tbody>\n",
       "    <tr>\n",
       "      <th>392</th>\n",
       "      <td>0</td>\n",
       "      <td>0.559784</td>\n",
       "      <td>0.440216</td>\n",
       "    </tr>\n",
       "    <tr>\n",
       "      <th>831</th>\n",
       "      <td>1</td>\n",
       "      <td>0.353258</td>\n",
       "      <td>0.646742</td>\n",
       "    </tr>\n",
       "    <tr>\n",
       "      <th>691</th>\n",
       "      <td>0</td>\n",
       "      <td>0.594717</td>\n",
       "      <td>0.405283</td>\n",
       "    </tr>\n",
       "    <tr>\n",
       "      <th>83</th>\n",
       "      <td>0</td>\n",
       "      <td>0.453406</td>\n",
       "      <td>0.546594</td>\n",
       "    </tr>\n",
       "    <tr>\n",
       "      <th>14</th>\n",
       "      <td>0</td>\n",
       "      <td>0.544477</td>\n",
       "      <td>0.455523</td>\n",
       "    </tr>\n",
       "    <tr>\n",
       "      <th>843</th>\n",
       "      <td>0</td>\n",
       "      <td>0.793515</td>\n",
       "      <td>0.206485</td>\n",
       "    </tr>\n",
       "    <tr>\n",
       "      <th>539</th>\n",
       "      <td>0</td>\n",
       "      <td>0.719215</td>\n",
       "      <td>0.280785</td>\n",
       "    </tr>\n",
       "    <tr>\n",
       "      <th>621</th>\n",
       "      <td>1</td>\n",
       "      <td>0.899020</td>\n",
       "      <td>0.100980</td>\n",
       "    </tr>\n",
       "    <tr>\n",
       "      <th>99</th>\n",
       "      <td>0</td>\n",
       "      <td>0.664947</td>\n",
       "      <td>0.335053</td>\n",
       "    </tr>\n",
       "    <tr>\n",
       "      <th>698</th>\n",
       "      <td>0</td>\n",
       "      <td>0.902306</td>\n",
       "      <td>0.097694</td>\n",
       "    </tr>\n",
       "  </tbody>\n",
       "</table>\n",
       "</div>"
      ],
      "text/plain": [
       "     Actual Data  Predctied_Probability_Good Credit  \\\n",
       "392            0                           0.559784   \n",
       "831            1                           0.353258   \n",
       "691            0                           0.594717   \n",
       "83             0                           0.453406   \n",
       "14             0                           0.544477   \n",
       "843            0                           0.793515   \n",
       "539            0                           0.719215   \n",
       "621            1                           0.899020   \n",
       "99             0                           0.664947   \n",
       "698            0                           0.902306   \n",
       "\n",
       "     Predctied_Probability_Bad Credit  \n",
       "392                          0.440216  \n",
       "831                          0.646742  \n",
       "691                          0.405283  \n",
       "83                           0.546594  \n",
       "14                           0.455523  \n",
       "843                          0.206485  \n",
       "539                          0.280785  \n",
       "621                          0.100980  \n",
       "99                           0.335053  \n",
       "698                          0.097694  "
      ]
     },
     "execution_count": 26,
     "metadata": {},
     "output_type": "execute_result"
    }
   ],
   "source": [
    "#store the predicted probabilites into a dataframe:\n",
    "proba_df = pd.DataFrame({\"Actual Data\":test_y,\n",
    "                      \"Predctied_Probability_Good Credit\":LR_clf.predict_proba(test_x)[:,0],\n",
    "                      \"Predctied_Probability_Bad Credit\":LR_clf.predict_proba(test_x)[:,1]})\n",
    "proba_df.head(10)"
   ]
  },
  {
   "cell_type": "markdown",
   "metadata": {},
   "source": [
    "Observation based on results:\n",
    "- It seems the Logistic regression is not performing very well to correctly predict the 'Bad credit', and hence the Recall for this class is very low (45%)\n",
    "- But the Precision is also not very high, 71%. Which means out of all the predicted 'Bad Credit' 71% are the actually 'Bad credit'. \n",
    "- As a result F1-Score is also low.\n",
    "- But the model's overall accuracy is not very poor, 78%. "
   ]
  },
  {
   "cell_type": "markdown",
   "metadata": {},
   "source": [
    "Decision Tree:"
   ]
  },
  {
   "cell_type": "code",
   "execution_count": 82,
   "metadata": {},
   "outputs": [
    {
     "name": "stdout",
     "output_type": "stream",
     "text": [
      "The confusin matrix:\n",
      " [[108  32]\n",
      " [ 20  40]]\n",
      "The overall report:\n",
      "               precision    recall  f1-score   support\n",
      "\n",
      "           0       0.84      0.77      0.81       140\n",
      "           1       0.56      0.67      0.61        60\n",
      "\n",
      "    accuracy                           0.74       200\n",
      "   macro avg       0.70      0.72      0.71       200\n",
      "weighted avg       0.76      0.74      0.75       200\n",
      "\n"
     ]
    }
   ],
   "source": [
    "#create an instance\n",
    "dt_clf = DecisionTreeClassifier()\n",
    "\n",
    "#fit the train data to the model\n",
    "dt_clf.fit(train_x, train_y)\n",
    "\n",
    "#predict using test set\n",
    "y_pred_dt = dt_clf.predict(test_x)\n",
    "\n",
    "#check the accuracy of the model\n",
    "cm = confusion_matrix(test_y, y_pred_dt)\n",
    "print('The confusin matrix:\\n', cm)\n",
    "print('The overall report:\\n', classification_report(test_y, y_pred_dt))"
   ]
  },
  {
   "cell_type": "markdown",
   "metadata": {},
   "source": [
    "- The decision tree model is able to rightly classify 74% of the data.\n",
    "- 67% of the 'Bad credit' is being correctly predicted by the model, which is not a bad figure for this data.\n",
    "- And the F1-Score is also good."
   ]
  },
  {
   "cell_type": "markdown",
   "metadata": {},
   "source": [
    "Random Forest Model:"
   ]
  },
  {
   "cell_type": "code",
   "execution_count": 86,
   "metadata": {},
   "outputs": [
    {
     "name": "stdout",
     "output_type": "stream",
     "text": [
      "              precision    recall  f1-score   support\n",
      "\n",
      "           0       0.77      0.94      0.85       140\n",
      "           1       0.72      0.35      0.47        60\n",
      "\n",
      "    accuracy                           0.77       200\n",
      "   macro avg       0.75      0.65      0.66       200\n",
      "weighted avg       0.76      0.77      0.74       200\n",
      "\n"
     ]
    },
    {
     "name": "stderr",
     "output_type": "stream",
     "text": [
      "C:\\Users\\91842\\anaconda3\\lib\\site-packages\\sklearn\\ensemble\\_bagging.py:640: UserWarning: Some inputs do not have OOB scores. This probably means too few estimators were used to compute any reliable oob estimates.\n",
      "  warn(\"Some inputs do not have OOB scores. \"\n",
      "C:\\Users\\91842\\anaconda3\\lib\\site-packages\\sklearn\\ensemble\\_bagging.py:645: RuntimeWarning: invalid value encountered in true_divide\n",
      "  predictions.sum(axis=1)[:, np.newaxis])\n"
     ]
    }
   ],
   "source": [
    "rf_model = BaggingClassifier(base_estimator=RandomForestClassifier(),\n",
    "                            bootstrap=True,\n",
    "                            oob_score=True)\n",
    "\n",
    "#fit the train data to the bagging model\n",
    "rf_model.fit(train_x, train_y)\n",
    "\n",
    "#predict using test set\n",
    "y_predictions_rf = rf_model.predict(test_x)\n",
    "\n",
    "#check the accuracy of the model\n",
    "print(classification_report(test_y, y_predictions_rf))"
   ]
  },
  {
   "cell_type": "markdown",
   "metadata": {},
   "source": [
    "- Random forest model is able to predict correctly 77% of the data.\n",
    "- Now let's try to improve the model accuracy by tuning the hyperparamter"
   ]
  },
  {
   "cell_type": "code",
   "execution_count": 34,
   "metadata": {},
   "outputs": [
    {
     "name": "stdout",
     "output_type": "stream",
     "text": [
      "{'criterion': 'entropy', 'max_depth': 7, 'max_features': 'auto', 'min_samples_leaf': 2, 'min_samples_split': 6, 'n_estimators': 100}\n"
     ]
    }
   ],
   "source": [
    "model2 = RandomForestClassifier()\n",
    "\n",
    "# we are tuning with 3 hyperparameters, we are passing the different values for the parameters\n",
    "grid_param = {\"n_estimators\" : [90,100,115,130],\n",
    "    'criterion': ['gini', 'entropy'],\n",
    "    'max_depth' : range(2,8),\n",
    "    'min_samples_leaf' : range(1,8),\n",
    "    'min_samples_split': range(2,8),\n",
    "    'max_features' : ['auto','log2']}\n",
    "\n",
    "cv = GridSearchCV(estimator=model2,\n",
    "                     param_grid=grid_param,\n",
    "                     cv=5,\n",
    "                    scoring='accuracy')\n",
    "\n",
    "cv.fit(train_x,train_y)\n",
    "print(cv.best_params_)"
   ]
  },
  {
   "cell_type": "code",
   "execution_count": 95,
   "metadata": {},
   "outputs": [
    {
     "name": "stdout",
     "output_type": "stream",
     "text": [
      "              precision    recall  f1-score   support\n",
      "\n",
      "           0       0.75      0.97      0.85       140\n",
      "           1       0.79      0.25      0.38        60\n",
      "\n",
      "    accuracy                           0.76       200\n",
      "   macro avg       0.77      0.61      0.61       200\n",
      "weighted avg       0.76      0.76      0.71       200\n",
      "\n"
     ]
    },
    {
     "name": "stderr",
     "output_type": "stream",
     "text": [
      "C:\\Users\\91842\\anaconda3\\lib\\site-packages\\sklearn\\ensemble\\_bagging.py:640: UserWarning: Some inputs do not have OOB scores. This probably means too few estimators were used to compute any reliable oob estimates.\n",
      "  warn(\"Some inputs do not have OOB scores. \"\n",
      "C:\\Users\\91842\\anaconda3\\lib\\site-packages\\sklearn\\ensemble\\_bagging.py:645: RuntimeWarning: invalid value encountered in true_divide\n",
      "  predictions.sum(axis=1)[:, np.newaxis])\n"
     ]
    }
   ],
   "source": [
    "# Create new model using the above received best parameters\n",
    "rf_model2 = BaggingClassifier(base_estimator=RandomForestClassifier(n_estimators=120,\n",
    "                                           criterion='entropy',\n",
    "                                           max_depth=7,\n",
    "                                           min_samples_leaf=2,\n",
    "                                           min_samples_split=8),\n",
    "                            bootstrap=True,\n",
    "                            oob_score=True)\n",
    "\n",
    "#fit the train data to the bagging model\n",
    "rf_model2.fit(train_x, train_y)\n",
    "\n",
    "#predict using test set\n",
    "y_predictions_rf2 = rf_model2.predict(test_x)\n",
    "\n",
    "#check the accuracy of the model\n",
    "print(classification_report(test_y, y_predictions_rf2))"
   ]
  },
  {
   "cell_type": "markdown",
   "metadata": {},
   "source": [
    "- So, even after performing hyper parameter tuning also there is no improvement in the model's accuracy"
   ]
  },
  {
   "cell_type": "markdown",
   "metadata": {},
   "source": [
    "XGBoost:"
   ]
  },
  {
   "cell_type": "code",
   "execution_count": 90,
   "metadata": {},
   "outputs": [
    {
     "name": "stdout",
     "output_type": "stream",
     "text": [
      "              precision    recall  f1-score   support\n",
      "\n",
      "           0       0.79      0.89      0.84       140\n",
      "           1       0.64      0.45      0.53        60\n",
      "\n",
      "    accuracy                           0.76       200\n",
      "   macro avg       0.72      0.67      0.68       200\n",
      "weighted avg       0.75      0.76      0.75       200\n",
      "\n"
     ]
    }
   ],
   "source": [
    "# fit model no training data\n",
    "xgb = XGBClassifier()\n",
    "xgb.fit(train_x, train_y)\n",
    "\n",
    "# cheking training accuracy\n",
    "y_predictions_xgb = xgb.predict(test_x)\n",
    "\n",
    "#check the accuracy of the model\n",
    "print(classification_report(test_y, y_predictions_xgb))"
   ]
  },
  {
   "cell_type": "markdown",
   "metadata": {},
   "source": [
    "- XGBoost model's accuracy is 76%\n",
    "- Recall is very low, 45%. And hence F1-Score is also not very good."
   ]
  },
  {
   "cell_type": "markdown",
   "metadata": {},
   "source": [
    "Model Selection: ROC-AUC"
   ]
  },
  {
   "cell_type": "code",
   "execution_count": 92,
   "metadata": {},
   "outputs": [
    {
     "data": {
      "image/png": "[encoded data removed]",
      "text/plain": [
       "<Figure size 432x288 with 1 Axes>"
      ]
     },
     "metadata": {
      "needs_background": "light"
     },
     "output_type": "display_data"
    }
   ],
   "source": [
    "# Area Under Curve\n",
    "auc = roc_auc_score(test_y, y_pred_LR)\n",
    "\n",
    "# ROC\n",
    "fpr_random, tpr_random, thresholds_radom = roc_curve(test_y, y_pred_LR)\n",
    "\n",
    "# Plotting ROC for Random Forest\n",
    "plt.plot(fpr_random, tpr_random, color='orange', label='ROC')\n",
    "plt.plot([0, 1], [0, 1], color='darkblue', linestyle='--',label='ROC curve (area = %0.2f)' % auc)\n",
    "plt.xlabel('False Positive Rate')\n",
    "plt.ylabel('True Positive Rate')\n",
    "plt.title('Receiver Operating Characteristic (ROC) Curve for Logistic Regression')\n",
    "plt.legend()\n",
    "plt.show()"
   ]
  },
  {
   "cell_type": "code",
   "execution_count": 83,
   "metadata": {},
   "outputs": [
    {
     "data": {
      "image/png": "[encoded data removed]",
      "text/plain": [
       "<Figure size 432x288 with 1 Axes>"
      ]
     },
     "metadata": {
      "needs_background": "light"
     },
     "output_type": "display_data"
    }
   ],
   "source": [
    "# Area Under Curve\n",
    "auc = roc_auc_score(test_y, y_pred_dt)\n",
    "\n",
    "# ROC\n",
    "fpr_random, tpr_random, thresholds_radom = roc_curve(test_y, y_pred_dt)\n",
    "\n",
    "# Plotting ROC for Random Forest\n",
    "plt.plot(fpr_random, tpr_random, color='orange', label='ROC')\n",
    "plt.plot([0, 1], [0, 1], color='darkblue', linestyle='--',label='ROC curve (area = %0.2f)' % auc)\n",
    "plt.xlabel('False Positive Rate')\n",
    "plt.ylabel('True Positive Rate')\n",
    "plt.title('Receiver Operating Characteristic (ROC) Curve for Decision Tree')\n",
    "plt.legend()\n",
    "plt.show()"
   ]
  },
  {
   "cell_type": "code",
   "execution_count": 88,
   "metadata": {},
   "outputs": [
    {
     "data": {
      "image/png": "[encoded data removed]",
      "text/plain": [
       "<Figure size 432x288 with 1 Axes>"
      ]
     },
     "metadata": {
      "needs_background": "light"
     },
     "output_type": "display_data"
    }
   ],
   "source": [
    "# Area Under Curve\n",
    "auc = roc_auc_score(test_y, y_predictions_rf)\n",
    "\n",
    "# ROC\n",
    "fpr_random, tpr_random, thresholds_radom = roc_curve(test_y, y_predictions_rf)\n",
    "\n",
    "# Plotting ROC for Random Forest\n",
    "plt.plot(fpr_random, tpr_random, color='orange', label='ROC')\n",
    "plt.plot([0, 1], [0, 1], color='darkblue', linestyle='--',label='ROC curve (area = %0.2f)' % auc)\n",
    "plt.xlabel('False Positive Rate')\n",
    "plt.ylabel('True Positive Rate')\n",
    "plt.title('Receiver Operating Characteristic (ROC) Curve for Random Forest')\n",
    "plt.legend()\n",
    "plt.show()"
   ]
  },
  {
   "cell_type": "code",
   "execution_count": 91,
   "metadata": {},
   "outputs": [
    {
     "data": {
      "image/png": "[encoded data removed]",
      "text/plain": [
       "<Figure size 432x288 with 1 Axes>"
      ]
     },
     "metadata": {
      "needs_background": "light"
     },
     "output_type": "display_data"
    }
   ],
   "source": [
    "# Area Under Curve\n",
    "auc = roc_auc_score(test_y, y_predictions_xgb)\n",
    "\n",
    "# ROC\n",
    "fpr_random, tpr_random, thresholds_radom = roc_curve(test_y, y_predictions_xgb)\n",
    "\n",
    "# Plotting ROC for Random Forest\n",
    "plt.plot(fpr_random, tpr_random, color='orange', label='ROC')\n",
    "plt.plot([0, 1], [0, 1], color='darkblue', linestyle='--',label='ROC curve (area = %0.2f)' % auc)\n",
    "plt.xlabel('False Positive Rate')\n",
    "plt.ylabel('True Positive Rate')\n",
    "plt.title('Receiver Operating Characteristic (ROC) Curve for XGBoost')\n",
    "plt.legend()\n",
    "plt.show()"
   ]
  },
  {
   "cell_type": "code",
   "execution_count": null,
   "metadata": {},
   "outputs": [],
   "source": []
  }
 ],
 "metadata": {
  "kernelspec": {
   "display_name": "Python 3",
   "language": "python",
   "name": "python3"
  },
  "language_info": {
   "codemirror_mode": {
    "name": "ipython",
    "version": 3
   },
   "file_extension": ".py",
   "mimetype": "text/x-python",
   "name": "python",
   "nbconvert_exporter": "python",
   "pygments_lexer": "ipython3",
   "version": "3.7.6"
  }
 },
 "nbformat": 4,
 "nbformat_minor": 4
}
